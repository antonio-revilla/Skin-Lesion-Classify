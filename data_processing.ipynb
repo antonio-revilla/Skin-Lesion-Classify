{
 "cells": [
  {
   "cell_type": "code",
   "execution_count": 2,
   "metadata": {},
   "outputs": [],
   "source": [
    "import pandas as pd\n",
    "import numpy as np\n",
    "from glob import glob\n",
    "import os\n",
    "\n",
    "from sklearn.model_selection import train_test_split\n"
   ]
  },
  {
   "cell_type": "markdown",
   "metadata": {},
   "source": [
    "# Gathering data\n",
    "* Collecting all image paths and associating them with there respective image ids\n"
   ]
  },
  {
   "cell_type": "code",
   "execution_count": 3,
   "metadata": {},
   "outputs": [],
   "source": [
    "data_dir = 'data'\n",
    "all_image_paths = glob(os.path.join(data_dir, '*', '*.jpg'))\n",
    "imageid_path_dict = {os.path.splitext(os.path.basename(x))[0]: x for x in all_image_paths}\n",
    "lesion_type_dict = {\n",
    "    'nv': 'Melanocytic nevi',\n",
    "    'mel': 'Melanoma',\n",
    "    'bkl': 'Benign keratosis-like lesions ',\n",
    "    'bcc': 'Basal cell carcinoma',\n",
    "    'akiec': 'Actinic keratoses',\n",
    "    'vasc': 'Vascular lesions',\n",
    "    'df': 'Dermatofibroma'\n",
    "}"
   ]
  },
  {
   "cell_type": "code",
   "execution_count": 4,
   "metadata": {},
   "outputs": [
    {
     "data": {
      "text/html": [
       "<div>\n",
       "<style scoped>\n",
       "    .dataframe tbody tr th:only-of-type {\n",
       "        vertical-align: middle;\n",
       "    }\n",
       "\n",
       "    .dataframe tbody tr th {\n",
       "        vertical-align: top;\n",
       "    }\n",
       "\n",
       "    .dataframe thead th {\n",
       "        text-align: right;\n",
       "    }\n",
       "</style>\n",
       "<table border=\"1\" class=\"dataframe\">\n",
       "  <thead>\n",
       "    <tr style=\"text-align: right;\">\n",
       "      <th></th>\n",
       "      <th>lesion_id</th>\n",
       "      <th>image_id</th>\n",
       "      <th>dx</th>\n",
       "      <th>dx_type</th>\n",
       "      <th>age</th>\n",
       "      <th>sex</th>\n",
       "      <th>localization</th>\n",
       "    </tr>\n",
       "  </thead>\n",
       "  <tbody>\n",
       "    <tr>\n",
       "      <th>0</th>\n",
       "      <td>HAM_0000118</td>\n",
       "      <td>ISIC_0027419</td>\n",
       "      <td>bkl</td>\n",
       "      <td>histo</td>\n",
       "      <td>80.0</td>\n",
       "      <td>male</td>\n",
       "      <td>scalp</td>\n",
       "    </tr>\n",
       "    <tr>\n",
       "      <th>1</th>\n",
       "      <td>HAM_0000118</td>\n",
       "      <td>ISIC_0025030</td>\n",
       "      <td>bkl</td>\n",
       "      <td>histo</td>\n",
       "      <td>80.0</td>\n",
       "      <td>male</td>\n",
       "      <td>scalp</td>\n",
       "    </tr>\n",
       "    <tr>\n",
       "      <th>2</th>\n",
       "      <td>HAM_0002730</td>\n",
       "      <td>ISIC_0026769</td>\n",
       "      <td>bkl</td>\n",
       "      <td>histo</td>\n",
       "      <td>80.0</td>\n",
       "      <td>male</td>\n",
       "      <td>scalp</td>\n",
       "    </tr>\n",
       "    <tr>\n",
       "      <th>3</th>\n",
       "      <td>HAM_0002730</td>\n",
       "      <td>ISIC_0025661</td>\n",
       "      <td>bkl</td>\n",
       "      <td>histo</td>\n",
       "      <td>80.0</td>\n",
       "      <td>male</td>\n",
       "      <td>scalp</td>\n",
       "    </tr>\n",
       "    <tr>\n",
       "      <th>4</th>\n",
       "      <td>HAM_0001466</td>\n",
       "      <td>ISIC_0031633</td>\n",
       "      <td>bkl</td>\n",
       "      <td>histo</td>\n",
       "      <td>75.0</td>\n",
       "      <td>male</td>\n",
       "      <td>ear</td>\n",
       "    </tr>\n",
       "  </tbody>\n",
       "</table>\n",
       "</div>"
      ],
      "text/plain": [
       "     lesion_id      image_id   dx dx_type   age   sex localization\n",
       "0  HAM_0000118  ISIC_0027419  bkl   histo  80.0  male        scalp\n",
       "1  HAM_0000118  ISIC_0025030  bkl   histo  80.0  male        scalp\n",
       "2  HAM_0002730  ISIC_0026769  bkl   histo  80.0  male        scalp\n",
       "3  HAM_0002730  ISIC_0025661  bkl   histo  80.0  male        scalp\n",
       "4  HAM_0001466  ISIC_0031633  bkl   histo  75.0  male          ear"
      ]
     },
     "execution_count": 4,
     "metadata": {},
     "output_type": "execute_result"
    }
   ],
   "source": [
    "meta_df = pd.read_csv('data/HAM10000_metadata.csv')\n",
    "meta_df.head()"
   ]
  },
  {
   "cell_type": "code",
   "execution_count": 5,
   "metadata": {},
   "outputs": [
    {
     "data": {
      "text/html": [
       "<div>\n",
       "<style scoped>\n",
       "    .dataframe tbody tr th:only-of-type {\n",
       "        vertical-align: middle;\n",
       "    }\n",
       "\n",
       "    .dataframe tbody tr th {\n",
       "        vertical-align: top;\n",
       "    }\n",
       "\n",
       "    .dataframe thead th {\n",
       "        text-align: right;\n",
       "    }\n",
       "</style>\n",
       "<table border=\"1\" class=\"dataframe\">\n",
       "  <thead>\n",
       "    <tr style=\"text-align: right;\">\n",
       "      <th></th>\n",
       "      <th>lesion_id</th>\n",
       "      <th>image_id</th>\n",
       "      <th>dx</th>\n",
       "      <th>dx_type</th>\n",
       "      <th>age</th>\n",
       "      <th>sex</th>\n",
       "      <th>localization</th>\n",
       "      <th>path</th>\n",
       "      <th>cell_type</th>\n",
       "      <th>cell_type_idx</th>\n",
       "    </tr>\n",
       "  </thead>\n",
       "  <tbody>\n",
       "    <tr>\n",
       "      <th>0</th>\n",
       "      <td>HAM_0000118</td>\n",
       "      <td>ISIC_0027419</td>\n",
       "      <td>bkl</td>\n",
       "      <td>histo</td>\n",
       "      <td>80.0</td>\n",
       "      <td>male</td>\n",
       "      <td>scalp</td>\n",
       "      <td>data/HAM10000_images_part_1/ISIC_0027419.jpg</td>\n",
       "      <td>Benign keratosis-like lesions</td>\n",
       "      <td>2</td>\n",
       "    </tr>\n",
       "    <tr>\n",
       "      <th>1</th>\n",
       "      <td>HAM_0000118</td>\n",
       "      <td>ISIC_0025030</td>\n",
       "      <td>bkl</td>\n",
       "      <td>histo</td>\n",
       "      <td>80.0</td>\n",
       "      <td>male</td>\n",
       "      <td>scalp</td>\n",
       "      <td>data/HAM10000_images_part_1/ISIC_0025030.jpg</td>\n",
       "      <td>Benign keratosis-like lesions</td>\n",
       "      <td>2</td>\n",
       "    </tr>\n",
       "    <tr>\n",
       "      <th>2</th>\n",
       "      <td>HAM_0002730</td>\n",
       "      <td>ISIC_0026769</td>\n",
       "      <td>bkl</td>\n",
       "      <td>histo</td>\n",
       "      <td>80.0</td>\n",
       "      <td>male</td>\n",
       "      <td>scalp</td>\n",
       "      <td>data/HAM10000_images_part_1/ISIC_0026769.jpg</td>\n",
       "      <td>Benign keratosis-like lesions</td>\n",
       "      <td>2</td>\n",
       "    </tr>\n",
       "    <tr>\n",
       "      <th>3</th>\n",
       "      <td>HAM_0002730</td>\n",
       "      <td>ISIC_0025661</td>\n",
       "      <td>bkl</td>\n",
       "      <td>histo</td>\n",
       "      <td>80.0</td>\n",
       "      <td>male</td>\n",
       "      <td>scalp</td>\n",
       "      <td>data/HAM10000_images_part_1/ISIC_0025661.jpg</td>\n",
       "      <td>Benign keratosis-like lesions</td>\n",
       "      <td>2</td>\n",
       "    </tr>\n",
       "    <tr>\n",
       "      <th>4</th>\n",
       "      <td>HAM_0001466</td>\n",
       "      <td>ISIC_0031633</td>\n",
       "      <td>bkl</td>\n",
       "      <td>histo</td>\n",
       "      <td>75.0</td>\n",
       "      <td>male</td>\n",
       "      <td>ear</td>\n",
       "      <td>data/HAM10000_images_part_2/ISIC_0031633.jpg</td>\n",
       "      <td>Benign keratosis-like lesions</td>\n",
       "      <td>2</td>\n",
       "    </tr>\n",
       "  </tbody>\n",
       "</table>\n",
       "</div>"
      ],
      "text/plain": [
       "     lesion_id      image_id   dx dx_type   age   sex localization  \\\n",
       "0  HAM_0000118  ISIC_0027419  bkl   histo  80.0  male        scalp   \n",
       "1  HAM_0000118  ISIC_0025030  bkl   histo  80.0  male        scalp   \n",
       "2  HAM_0002730  ISIC_0026769  bkl   histo  80.0  male        scalp   \n",
       "3  HAM_0002730  ISIC_0025661  bkl   histo  80.0  male        scalp   \n",
       "4  HAM_0001466  ISIC_0031633  bkl   histo  75.0  male          ear   \n",
       "\n",
       "                                           path  \\\n",
       "0  data/HAM10000_images_part_1/ISIC_0027419.jpg   \n",
       "1  data/HAM10000_images_part_1/ISIC_0025030.jpg   \n",
       "2  data/HAM10000_images_part_1/ISIC_0026769.jpg   \n",
       "3  data/HAM10000_images_part_1/ISIC_0025661.jpg   \n",
       "4  data/HAM10000_images_part_2/ISIC_0031633.jpg   \n",
       "\n",
       "                        cell_type  cell_type_idx  \n",
       "0  Benign keratosis-like lesions               2  \n",
       "1  Benign keratosis-like lesions               2  \n",
       "2  Benign keratosis-like lesions               2  \n",
       "3  Benign keratosis-like lesions               2  \n",
       "4  Benign keratosis-like lesions               2  "
      ]
     },
     "execution_count": 5,
     "metadata": {},
     "output_type": "execute_result"
    }
   ],
   "source": [
    "# add image paths to meta_df\n",
    "meta_df['path'] = meta_df['image_id'].map(imageid_path_dict.get)\n",
    "meta_df['cell_type'] = meta_df['dx'].map(lesion_type_dict.get)\n",
    "meta_df['cell_type_idx'] = pd.Categorical(meta_df['cell_type']).codes\n",
    "meta_df.head()"
   ]
  },
  {
   "cell_type": "code",
   "execution_count": 6,
   "metadata": {},
   "outputs": [
    {
     "data": {
      "text/plain": [
       "{0: 'Actinic keratoses',\n",
       " 1: 'Basal cell carcinoma',\n",
       " 2: 'Benign keratosis-like lesions ',\n",
       " 3: 'Dermatofibroma',\n",
       " 4: 'Melanocytic nevi',\n",
       " 5: 'Melanoma',\n",
       " 6: 'Melanoma'}"
      ]
     },
     "execution_count": 6,
     "metadata": {},
     "output_type": "execute_result"
    }
   ],
   "source": [
    "# create a id2label mapping base on cell_type_idx\n",
    "id2label = meta_df[['cell_type_idx', 'cell_type']].drop_duplicates().sort_values('cell_type_idx')\n",
    "id2label = id2label.set_index('cell_type_idx').to_dict()['cell_type']\n",
    "id2label[6] = 'Melanoma'\n",
    "id2label\n"
   ]
  },
  {
   "cell_type": "markdown",
   "metadata": {},
   "source": [
    "# Creating Validation Set\n",
    "We will create a validation set using a subset of images that aren't duplicated. Since, they aren't duplicated, filtering them out into a validation set will give us and unseen test set. "
   ]
  },
  {
   "cell_type": "code",
   "execution_count": 7,
   "metadata": {},
   "outputs": [
    {
     "name": "stdout",
     "output_type": "stream",
     "text": [
      "(4501, 10)\n",
      "(5514, 10)\n"
     ]
    }
   ],
   "source": [
    "lesion_id_counts = meta_df['lesion_id'].value_counts()\n",
    "\n",
    "# Filter out lesion_ids with count equal to 1\n",
    "filtered_lesion_ids = lesion_id_counts[lesion_id_counts == 1].index\n",
    "\n",
    "# Filter meta_df dataset\n",
    "filtered_df_dup = meta_df[~meta_df['lesion_id'].isin(filtered_lesion_ids)]\n",
    "filtered_df_undup = meta_df[meta_df['lesion_id'].isin(filtered_lesion_ids)]\n",
    "print(filtered_df_dup.shape)\n",
    "print(filtered_df_undup.shape)"
   ]
  },
  {
   "cell_type": "code",
   "execution_count": 8,
   "metadata": {},
   "outputs": [
    {
     "data": {
      "text/plain": [
       "(1103, 10)"
      ]
     },
     "execution_count": 8,
     "metadata": {},
     "output_type": "execute_result"
    }
   ],
   "source": [
    "y = filtered_df_undup['cell_type_idx']\n",
    "_, df_val = train_test_split(filtered_df_undup, test_size=0.2, stratify=y)\n",
    "\n",
    "df_val.shape"
   ]
  },
  {
   "cell_type": "code",
   "execution_count": 9,
   "metadata": {},
   "outputs": [
    {
     "data": {
      "text/plain": [
       "cell_type\n",
       "Melanocytic nevi                  883\n",
       "Benign keratosis-like lesions      88\n",
       "Melanoma                           46\n",
       "Basal cell carcinoma               35\n",
       "Actinic keratoses                  30\n",
       "Vascular lesions                   13\n",
       "Dermatofibroma                      8\n",
       "Name: count, dtype: int64"
      ]
     },
     "execution_count": 9,
     "metadata": {},
     "output_type": "execute_result"
    }
   ],
   "source": [
    "df_val['cell_type'].value_counts()"
   ]
  },
  {
   "cell_type": "code",
   "execution_count": 10,
   "metadata": {},
   "outputs": [
    {
     "data": {
      "text/plain": [
       "cell_type\n",
       "Melanocytic nevi                  5822\n",
       "Melanoma                          1067\n",
       "Benign keratosis-like lesions     1011\n",
       "Basal cell carcinoma               479\n",
       "Actinic keratoses                  297\n",
       "Vascular lesions                   129\n",
       "Dermatofibroma                     107\n",
       "Name: count, dtype: int64"
      ]
     },
     "execution_count": 10,
     "metadata": {},
     "output_type": "execute_result"
    }
   ],
   "source": [
    "df_train = meta_df[~meta_df['image_id'].isin(df_val['image_id'])]\n",
    "df_train['cell_type'].value_counts()"
   ]
  },
  {
   "cell_type": "code",
   "execution_count": 11,
   "metadata": {},
   "outputs": [
    {
     "data": {
      "text/plain": [
       "cell_type_idx\n",
       "4    5822\n",
       "5    1067\n",
       "2    1011\n",
       "1     479\n",
       "0     297\n",
       "6     129\n",
       "3     107\n",
       "Name: count, dtype: int64"
      ]
     },
     "execution_count": 11,
     "metadata": {},
     "output_type": "execute_result"
    }
   ],
   "source": [
    "df_train['cell_type_idx'].value_counts()   "
   ]
  },
  {
   "cell_type": "markdown",
   "metadata": {},
   "source": [
    "#"
   ]
  },
  {
   "cell_type": "markdown",
   "metadata": {},
   "source": [
    "## Need to address class imbalance\n",
    "* We will oversample the dataset"
   ]
  },
  {
   "cell_type": "code",
   "execution_count": 12,
   "metadata": {},
   "outputs": [
    {
     "data": {
      "text/plain": [
       "cell_type\n",
       "Melanoma                          42680\n",
       "Melanocytic nevi                   5822\n",
       "Dermatofibroma                     5350\n",
       "Benign keratosis-like lesions      5055\n",
       "Basal cell carcinoma               4790\n",
       "Actinic keratoses                  4455\n",
       "Vascular lesions                    645\n",
       "Name: count, dtype: int64"
      ]
     },
     "execution_count": 12,
     "metadata": {},
     "output_type": "execute_result"
    }
   ],
   "source": [
    "data_aug_rate = [15,10,5,50,0,40,5]\n",
    "for i in range(7):\n",
    "    # append the duplicated data to the training set\n",
    "    if data_aug_rate[i] > 0:\n",
    "        dup_df = pd.concat([df_train.loc[df_train['cell_type_idx'] == i, :]] * (data_aug_rate[i] - 1), ignore_index=True)\n",
    "        df_train = pd.concat([df_train, dup_df], ignore_index=True)\n",
    "df_train['cell_type'].value_counts()"
   ]
  },
  {
   "cell_type": "code",
   "execution_count": 13,
   "metadata": {},
   "outputs": [],
   "source": [
    "df_train = df_train.reset_index()\n",
    "df_val = df_val.reset_index()"
   ]
  },
  {
   "cell_type": "markdown",
   "metadata": {},
   "source": [
    "## Ideas for oversampling\n",
    "* Augment data so that models don't overfit"
   ]
  },
  {
   "cell_type": "markdown",
   "metadata": {},
   "source": [
    "# Building and Training Models"
   ]
  },
  {
   "cell_type": "code",
   "execution_count": 14,
   "metadata": {},
   "outputs": [
    {
     "name": "stderr",
     "output_type": "stream",
     "text": [
      "/Users/antoniorevilla/Desktop/SLC Project/env/lib/python3.12/site-packages/tqdm/auto.py:21: TqdmWarning: IProgress not found. Please update jupyter and ipywidgets. See https://ipywidgets.readthedocs.io/en/stable/user_install.html\n",
      "  from .autonotebook import tqdm as notebook_tqdm\n"
     ]
    }
   ],
   "source": [
    "from models import NN_Model\n",
    "import torch\n",
    "from torchvision import transforms\n",
    "import cv2\n",
    "from tqdm import tqdm\n",
    "from torch.utils.data import DataLoader, Dataset\n",
    "from PIL import Image\n",
    "import torch.optim as optim\n",
    "from sklearn.metrics import accuracy_score, precision_score, recall_score, f1_score, confusion_matrix\n",
    "import matplotlib.pyplot as plt\n",
    "\n",
    "\n"
   ]
  },
  {
   "cell_type": "code",
   "execution_count": 26,
   "metadata": {},
   "outputs": [
    {
     "name": "stderr",
     "output_type": "stream",
     "text": [
      "/Users/antoniorevilla/Desktop/SLC Project/env/lib/python3.12/site-packages/torchvision/models/_utils.py:208: UserWarning: The parameter 'pretrained' is deprecated since 0.13 and may be removed in the future, please use 'weights' instead.\n",
      "  warnings.warn(\n",
      "/Users/antoniorevilla/Desktop/SLC Project/env/lib/python3.12/site-packages/torchvision/models/_utils.py:223: UserWarning: Arguments other than a weight enum or `None` for 'weights' are deprecated since 0.13 and may be removed in the future. The current behavior is equivalent to passing `weights=ResNet18_Weights.IMAGENET1K_V1`. You can also use `weights=ResNet18_Weights.DEFAULT` to get the most up-to-date weights.\n",
      "  warnings.warn(msg)\n"
     ]
    },
    {
     "name": "stdout",
     "output_type": "stream",
     "text": [
      "Using mps device\n"
     ]
    }
   ],
   "source": [
    "num_classes = 7\n",
    "model = NN_Model('resnet50', num_classes)\n",
    "\n",
    "# If Mps or Cudo is available, use them\n",
    "if torch.cuda.is_available():\n",
    "    device = 'cuda'\n",
    "elif torch.backends.mps.is_available():\n",
    "    device = 'mps'\n",
    "else:\n",
    "    device = 'cpu'\n",
    "print(f'Using {device} device')\n",
    "\n",
    "model.to(device)\n",
    "\n",
    "input_size = model.input_size"
   ]
  },
  {
   "cell_type": "markdown",
   "metadata": {},
   "source": [
    "## Augmenting/Normalizing Images"
   ]
  },
  {
   "cell_type": "code",
   "execution_count": 27,
   "metadata": {},
   "outputs": [],
   "source": [
    "def compute_img_mean_std(image_paths):\n",
    "    \"\"\"\n",
    "        computing the mean and std of three channel on the whole dataset,\n",
    "        first we should normalize the image from 0-255 to 0-1\n",
    "    \"\"\"\n",
    "\n",
    "    img_h, img_w = 224, 224\n",
    "    imgs = []\n",
    "    means, stdevs = [], []\n",
    "\n",
    "    for i in tqdm(range(len(image_paths))):\n",
    "        img = cv2.imread(image_paths[i])\n",
    "        img = cv2.resize(img, (img_h, img_w))\n",
    "        imgs.append(img)\n",
    "\n",
    "    imgs = np.stack(imgs, axis=3)\n",
    "    print(imgs.shape)\n",
    "\n",
    "    imgs = imgs.astype(np.float32) / 255.\n",
    "\n",
    "    for i in range(3):\n",
    "        pixels = imgs[:, :, i, :].ravel()  # resize to one row\n",
    "        means.append(np.mean(pixels))\n",
    "        stdevs.append(np.std(pixels))\n",
    "\n",
    "    means.reverse()  # BGR --> RGB\n",
    "    stdevs.reverse()\n",
    "\n",
    "    print(\"normMean = {}\".format(means))\n",
    "    print(\"normStd = {}\".format(stdevs))\n",
    "    return means,stdevs"
   ]
  },
  {
   "cell_type": "code",
   "execution_count": 28,
   "metadata": {},
   "outputs": [
    {
     "name": "stderr",
     "output_type": "stream",
     "text": [
      "100%|██████████| 10015/10015 [00:28<00:00, 347.67it/s]\n"
     ]
    },
    {
     "name": "stdout",
     "output_type": "stream",
     "text": [
      "(224, 224, 3, 10015)\n",
      "normMean = [0.7630392, 0.5456477, 0.57004845]\n",
      "normStd = [0.1409286, 0.15261266, 0.16997074]\n"
     ]
    }
   ],
   "source": [
    "norm_mean, norm_std = compute_img_mean_std(all_image_paths)"
   ]
  },
  {
   "cell_type": "code",
   "execution_count": 29,
   "metadata": {},
   "outputs": [
    {
     "data": {
      "text/html": [
       "<div>\n",
       "<style scoped>\n",
       "    .dataframe tbody tr th:only-of-type {\n",
       "        vertical-align: middle;\n",
       "    }\n",
       "\n",
       "    .dataframe tbody tr th {\n",
       "        vertical-align: top;\n",
       "    }\n",
       "\n",
       "    .dataframe thead th {\n",
       "        text-align: right;\n",
       "    }\n",
       "</style>\n",
       "<table border=\"1\" class=\"dataframe\">\n",
       "  <thead>\n",
       "    <tr style=\"text-align: right;\">\n",
       "      <th></th>\n",
       "      <th>index</th>\n",
       "      <th>lesion_id</th>\n",
       "      <th>image_id</th>\n",
       "      <th>dx</th>\n",
       "      <th>dx_type</th>\n",
       "      <th>age</th>\n",
       "      <th>sex</th>\n",
       "      <th>localization</th>\n",
       "      <th>path</th>\n",
       "      <th>cell_type</th>\n",
       "      <th>cell_type_idx</th>\n",
       "    </tr>\n",
       "  </thead>\n",
       "  <tbody>\n",
       "    <tr>\n",
       "      <th>0</th>\n",
       "      <td>0</td>\n",
       "      <td>HAM_0000118</td>\n",
       "      <td>ISIC_0027419</td>\n",
       "      <td>bkl</td>\n",
       "      <td>histo</td>\n",
       "      <td>80.0</td>\n",
       "      <td>male</td>\n",
       "      <td>scalp</td>\n",
       "      <td>data/HAM10000_images_part_1/ISIC_0027419.jpg</td>\n",
       "      <td>Benign keratosis-like lesions</td>\n",
       "      <td>2</td>\n",
       "    </tr>\n",
       "    <tr>\n",
       "      <th>1</th>\n",
       "      <td>1</td>\n",
       "      <td>HAM_0000118</td>\n",
       "      <td>ISIC_0025030</td>\n",
       "      <td>bkl</td>\n",
       "      <td>histo</td>\n",
       "      <td>80.0</td>\n",
       "      <td>male</td>\n",
       "      <td>scalp</td>\n",
       "      <td>data/HAM10000_images_part_1/ISIC_0025030.jpg</td>\n",
       "      <td>Benign keratosis-like lesions</td>\n",
       "      <td>2</td>\n",
       "    </tr>\n",
       "    <tr>\n",
       "      <th>2</th>\n",
       "      <td>2</td>\n",
       "      <td>HAM_0002730</td>\n",
       "      <td>ISIC_0026769</td>\n",
       "      <td>bkl</td>\n",
       "      <td>histo</td>\n",
       "      <td>80.0</td>\n",
       "      <td>male</td>\n",
       "      <td>scalp</td>\n",
       "      <td>data/HAM10000_images_part_1/ISIC_0026769.jpg</td>\n",
       "      <td>Benign keratosis-like lesions</td>\n",
       "      <td>2</td>\n",
       "    </tr>\n",
       "    <tr>\n",
       "      <th>3</th>\n",
       "      <td>3</td>\n",
       "      <td>HAM_0002730</td>\n",
       "      <td>ISIC_0025661</td>\n",
       "      <td>bkl</td>\n",
       "      <td>histo</td>\n",
       "      <td>80.0</td>\n",
       "      <td>male</td>\n",
       "      <td>scalp</td>\n",
       "      <td>data/HAM10000_images_part_1/ISIC_0025661.jpg</td>\n",
       "      <td>Benign keratosis-like lesions</td>\n",
       "      <td>2</td>\n",
       "    </tr>\n",
       "    <tr>\n",
       "      <th>4</th>\n",
       "      <td>4</td>\n",
       "      <td>HAM_0001466</td>\n",
       "      <td>ISIC_0031633</td>\n",
       "      <td>bkl</td>\n",
       "      <td>histo</td>\n",
       "      <td>75.0</td>\n",
       "      <td>male</td>\n",
       "      <td>ear</td>\n",
       "      <td>data/HAM10000_images_part_2/ISIC_0031633.jpg</td>\n",
       "      <td>Benign keratosis-like lesions</td>\n",
       "      <td>2</td>\n",
       "    </tr>\n",
       "  </tbody>\n",
       "</table>\n",
       "</div>"
      ],
      "text/plain": [
       "   index    lesion_id      image_id   dx dx_type   age   sex localization  \\\n",
       "0      0  HAM_0000118  ISIC_0027419  bkl   histo  80.0  male        scalp   \n",
       "1      1  HAM_0000118  ISIC_0025030  bkl   histo  80.0  male        scalp   \n",
       "2      2  HAM_0002730  ISIC_0026769  bkl   histo  80.0  male        scalp   \n",
       "3      3  HAM_0002730  ISIC_0025661  bkl   histo  80.0  male        scalp   \n",
       "4      4  HAM_0001466  ISIC_0031633  bkl   histo  75.0  male          ear   \n",
       "\n",
       "                                           path  \\\n",
       "0  data/HAM10000_images_part_1/ISIC_0027419.jpg   \n",
       "1  data/HAM10000_images_part_1/ISIC_0025030.jpg   \n",
       "2  data/HAM10000_images_part_1/ISIC_0026769.jpg   \n",
       "3  data/HAM10000_images_part_1/ISIC_0025661.jpg   \n",
       "4  data/HAM10000_images_part_2/ISIC_0031633.jpg   \n",
       "\n",
       "                        cell_type  cell_type_idx  \n",
       "0  Benign keratosis-like lesions               2  \n",
       "1  Benign keratosis-like lesions               2  \n",
       "2  Benign keratosis-like lesions               2  \n",
       "3  Benign keratosis-like lesions               2  \n",
       "4  Benign keratosis-like lesions               2  "
      ]
     },
     "execution_count": 29,
     "metadata": {},
     "output_type": "execute_result"
    }
   ],
   "source": [
    "df_train.head()"
   ]
  },
  {
   "cell_type": "code",
   "execution_count": 48,
   "metadata": {},
   "outputs": [
    {
     "data": {
      "text/plain": [
       "{'cell_type': {2: 'Benign keratosis-like lesions ',\n",
       "  4: 'Melanocytic nevi',\n",
       "  3: 'Dermatofibroma',\n",
       "  5: 'Melanoma',\n",
       "  6: 'Vascular lesions',\n",
       "  1: 'Basal cell carcinoma',\n",
       "  0: 'Actinic keratoses'}}"
      ]
     },
     "execution_count": 48,
     "metadata": {},
     "output_type": "execute_result"
    }
   ],
   "source": [
    "mapping = df_train[['cell_type_idx', 'cell_type']].drop_duplicates().set_index('cell_type_idx')\n",
    "config = mapping.to_dict()\n",
    "config"
   ]
  },
  {
   "cell_type": "code",
   "execution_count": 52,
   "metadata": {},
   "outputs": [
    {
     "data": {
      "text/html": [
       "<div>\n",
       "<style scoped>\n",
       "    .dataframe tbody tr th:only-of-type {\n",
       "        vertical-align: middle;\n",
       "    }\n",
       "\n",
       "    .dataframe tbody tr th {\n",
       "        vertical-align: top;\n",
       "    }\n",
       "\n",
       "    .dataframe thead th {\n",
       "        text-align: right;\n",
       "    }\n",
       "</style>\n",
       "<table border=\"1\" class=\"dataframe\">\n",
       "  <thead>\n",
       "    <tr style=\"text-align: right;\">\n",
       "      <th></th>\n",
       "      <th>index</th>\n",
       "      <th>lesion_id</th>\n",
       "      <th>image_id</th>\n",
       "      <th>dx</th>\n",
       "      <th>dx_type</th>\n",
       "      <th>age</th>\n",
       "      <th>sex</th>\n",
       "      <th>localization</th>\n",
       "      <th>path</th>\n",
       "      <th>cell_type</th>\n",
       "      <th>cell_type_idx</th>\n",
       "    </tr>\n",
       "  </thead>\n",
       "  <tbody>\n",
       "    <tr>\n",
       "      <th>15</th>\n",
       "      <td>2049</td>\n",
       "      <td>HAM_0006257</td>\n",
       "      <td>ISIC_0029843</td>\n",
       "      <td>mel</td>\n",
       "      <td>histo</td>\n",
       "      <td>70.0</td>\n",
       "      <td>male</td>\n",
       "      <td>neck</td>\n",
       "      <td>data/HAM10000_images_part_2/ISIC_0029843.jpg</td>\n",
       "      <td>Melanoma</td>\n",
       "      <td>5</td>\n",
       "    </tr>\n",
       "    <tr>\n",
       "      <th>47</th>\n",
       "      <td>1398</td>\n",
       "      <td>HAM_0000062</td>\n",
       "      <td>ISIC_0028878</td>\n",
       "      <td>mel</td>\n",
       "      <td>histo</td>\n",
       "      <td>55.0</td>\n",
       "      <td>male</td>\n",
       "      <td>back</td>\n",
       "      <td>data/HAM10000_images_part_1/ISIC_0028878.jpg</td>\n",
       "      <td>Melanoma</td>\n",
       "      <td>5</td>\n",
       "    </tr>\n",
       "    <tr>\n",
       "      <th>68</th>\n",
       "      <td>2174</td>\n",
       "      <td>HAM_0002693</td>\n",
       "      <td>ISIC_0031550</td>\n",
       "      <td>mel</td>\n",
       "      <td>histo</td>\n",
       "      <td>80.0</td>\n",
       "      <td>female</td>\n",
       "      <td>chest</td>\n",
       "      <td>data/HAM10000_images_part_2/ISIC_0031550.jpg</td>\n",
       "      <td>Melanoma</td>\n",
       "      <td>5</td>\n",
       "    </tr>\n",
       "    <tr>\n",
       "      <th>78</th>\n",
       "      <td>1889</td>\n",
       "      <td>HAM_0006400</td>\n",
       "      <td>ISIC_0031741</td>\n",
       "      <td>mel</td>\n",
       "      <td>histo</td>\n",
       "      <td>45.0</td>\n",
       "      <td>female</td>\n",
       "      <td>back</td>\n",
       "      <td>data/HAM10000_images_part_2/ISIC_0031741.jpg</td>\n",
       "      <td>Melanoma</td>\n",
       "      <td>5</td>\n",
       "    </tr>\n",
       "    <tr>\n",
       "      <th>113</th>\n",
       "      <td>1903</td>\n",
       "      <td>HAM_0005124</td>\n",
       "      <td>ISIC_0030150</td>\n",
       "      <td>mel</td>\n",
       "      <td>histo</td>\n",
       "      <td>80.0</td>\n",
       "      <td>female</td>\n",
       "      <td>neck</td>\n",
       "      <td>data/HAM10000_images_part_2/ISIC_0030150.jpg</td>\n",
       "      <td>Melanoma</td>\n",
       "      <td>5</td>\n",
       "    </tr>\n",
       "    <tr>\n",
       "      <th>139</th>\n",
       "      <td>2195</td>\n",
       "      <td>HAM_0003435</td>\n",
       "      <td>ISIC_0031350</td>\n",
       "      <td>mel</td>\n",
       "      <td>histo</td>\n",
       "      <td>60.0</td>\n",
       "      <td>male</td>\n",
       "      <td>back</td>\n",
       "      <td>data/HAM10000_images_part_2/ISIC_0031350.jpg</td>\n",
       "      <td>Melanoma</td>\n",
       "      <td>5</td>\n",
       "    </tr>\n",
       "    <tr>\n",
       "      <th>140</th>\n",
       "      <td>1938</td>\n",
       "      <td>HAM_0004427</td>\n",
       "      <td>ISIC_0029092</td>\n",
       "      <td>mel</td>\n",
       "      <td>histo</td>\n",
       "      <td>65.0</td>\n",
       "      <td>female</td>\n",
       "      <td>upper extremity</td>\n",
       "      <td>data/HAM10000_images_part_1/ISIC_0029092.jpg</td>\n",
       "      <td>Melanoma</td>\n",
       "      <td>5</td>\n",
       "    </tr>\n",
       "    <tr>\n",
       "      <th>147</th>\n",
       "      <td>2071</td>\n",
       "      <td>HAM_0002523</td>\n",
       "      <td>ISIC_0024516</td>\n",
       "      <td>mel</td>\n",
       "      <td>histo</td>\n",
       "      <td>40.0</td>\n",
       "      <td>male</td>\n",
       "      <td>back</td>\n",
       "      <td>data/HAM10000_images_part_1/ISIC_0024516.jpg</td>\n",
       "      <td>Melanoma</td>\n",
       "      <td>5</td>\n",
       "    </tr>\n",
       "    <tr>\n",
       "      <th>154</th>\n",
       "      <td>2149</td>\n",
       "      <td>HAM_0003445</td>\n",
       "      <td>ISIC_0026229</td>\n",
       "      <td>mel</td>\n",
       "      <td>histo</td>\n",
       "      <td>65.0</td>\n",
       "      <td>male</td>\n",
       "      <td>abdomen</td>\n",
       "      <td>data/HAM10000_images_part_1/ISIC_0026229.jpg</td>\n",
       "      <td>Melanoma</td>\n",
       "      <td>5</td>\n",
       "    </tr>\n",
       "    <tr>\n",
       "      <th>185</th>\n",
       "      <td>1972</td>\n",
       "      <td>HAM_0001378</td>\n",
       "      <td>ISIC_0025313</td>\n",
       "      <td>mel</td>\n",
       "      <td>histo</td>\n",
       "      <td>35.0</td>\n",
       "      <td>female</td>\n",
       "      <td>lower extremity</td>\n",
       "      <td>data/HAM10000_images_part_1/ISIC_0025313.jpg</td>\n",
       "      <td>Melanoma</td>\n",
       "      <td>5</td>\n",
       "    </tr>\n",
       "    <tr>\n",
       "      <th>233</th>\n",
       "      <td>2224</td>\n",
       "      <td>HAM_0005692</td>\n",
       "      <td>ISIC_0031931</td>\n",
       "      <td>mel</td>\n",
       "      <td>histo</td>\n",
       "      <td>70.0</td>\n",
       "      <td>female</td>\n",
       "      <td>face</td>\n",
       "      <td>data/HAM10000_images_part_2/ISIC_0031931.jpg</td>\n",
       "      <td>Melanoma</td>\n",
       "      <td>5</td>\n",
       "    </tr>\n",
       "    <tr>\n",
       "      <th>258</th>\n",
       "      <td>2142</td>\n",
       "      <td>HAM_0006130</td>\n",
       "      <td>ISIC_0031670</td>\n",
       "      <td>mel</td>\n",
       "      <td>histo</td>\n",
       "      <td>80.0</td>\n",
       "      <td>female</td>\n",
       "      <td>upper extremity</td>\n",
       "      <td>data/HAM10000_images_part_2/ISIC_0031670.jpg</td>\n",
       "      <td>Melanoma</td>\n",
       "      <td>5</td>\n",
       "    </tr>\n",
       "    <tr>\n",
       "      <th>285</th>\n",
       "      <td>1966</td>\n",
       "      <td>HAM_0000653</td>\n",
       "      <td>ISIC_0024552</td>\n",
       "      <td>mel</td>\n",
       "      <td>histo</td>\n",
       "      <td>60.0</td>\n",
       "      <td>female</td>\n",
       "      <td>lower extremity</td>\n",
       "      <td>data/HAM10000_images_part_1/ISIC_0024552.jpg</td>\n",
       "      <td>Melanoma</td>\n",
       "      <td>5</td>\n",
       "    </tr>\n",
       "    <tr>\n",
       "      <th>298</th>\n",
       "      <td>1946</td>\n",
       "      <td>HAM_0005927</td>\n",
       "      <td>ISIC_0028173</td>\n",
       "      <td>mel</td>\n",
       "      <td>histo</td>\n",
       "      <td>45.0</td>\n",
       "      <td>male</td>\n",
       "      <td>back</td>\n",
       "      <td>data/HAM10000_images_part_1/ISIC_0028173.jpg</td>\n",
       "      <td>Melanoma</td>\n",
       "      <td>5</td>\n",
       "    </tr>\n",
       "    <tr>\n",
       "      <th>369</th>\n",
       "      <td>2040</td>\n",
       "      <td>HAM_0004817</td>\n",
       "      <td>ISIC_0025238</td>\n",
       "      <td>mel</td>\n",
       "      <td>histo</td>\n",
       "      <td>55.0</td>\n",
       "      <td>male</td>\n",
       "      <td>lower extremity</td>\n",
       "      <td>data/HAM10000_images_part_1/ISIC_0025238.jpg</td>\n",
       "      <td>Melanoma</td>\n",
       "      <td>5</td>\n",
       "    </tr>\n",
       "    <tr>\n",
       "      <th>399</th>\n",
       "      <td>2216</td>\n",
       "      <td>HAM_0003885</td>\n",
       "      <td>ISIC_0027560</td>\n",
       "      <td>mel</td>\n",
       "      <td>histo</td>\n",
       "      <td>25.0</td>\n",
       "      <td>female</td>\n",
       "      <td>face</td>\n",
       "      <td>data/HAM10000_images_part_1/ISIC_0027560.jpg</td>\n",
       "      <td>Melanoma</td>\n",
       "      <td>5</td>\n",
       "    </tr>\n",
       "    <tr>\n",
       "      <th>418</th>\n",
       "      <td>1952</td>\n",
       "      <td>HAM_0005467</td>\n",
       "      <td>ISIC_0024640</td>\n",
       "      <td>mel</td>\n",
       "      <td>histo</td>\n",
       "      <td>55.0</td>\n",
       "      <td>female</td>\n",
       "      <td>back</td>\n",
       "      <td>data/HAM10000_images_part_1/ISIC_0024640.jpg</td>\n",
       "      <td>Melanoma</td>\n",
       "      <td>5</td>\n",
       "    </tr>\n",
       "    <tr>\n",
       "      <th>426</th>\n",
       "      <td>1395</td>\n",
       "      <td>HAM_0003448</td>\n",
       "      <td>ISIC_0026158</td>\n",
       "      <td>mel</td>\n",
       "      <td>histo</td>\n",
       "      <td>75.0</td>\n",
       "      <td>male</td>\n",
       "      <td>upper extremity</td>\n",
       "      <td>data/HAM10000_images_part_1/ISIC_0026158.jpg</td>\n",
       "      <td>Melanoma</td>\n",
       "      <td>5</td>\n",
       "    </tr>\n",
       "    <tr>\n",
       "      <th>434</th>\n",
       "      <td>2019</td>\n",
       "      <td>HAM_0002764</td>\n",
       "      <td>ISIC_0030366</td>\n",
       "      <td>mel</td>\n",
       "      <td>histo</td>\n",
       "      <td>60.0</td>\n",
       "      <td>female</td>\n",
       "      <td>back</td>\n",
       "      <td>data/HAM10000_images_part_2/ISIC_0030366.jpg</td>\n",
       "      <td>Melanoma</td>\n",
       "      <td>5</td>\n",
       "    </tr>\n",
       "    <tr>\n",
       "      <th>435</th>\n",
       "      <td>2206</td>\n",
       "      <td>HAM_0005735</td>\n",
       "      <td>ISIC_0025543</td>\n",
       "      <td>mel</td>\n",
       "      <td>histo</td>\n",
       "      <td>85.0</td>\n",
       "      <td>female</td>\n",
       "      <td>face</td>\n",
       "      <td>data/HAM10000_images_part_1/ISIC_0025543.jpg</td>\n",
       "      <td>Melanoma</td>\n",
       "      <td>5</td>\n",
       "    </tr>\n",
       "    <tr>\n",
       "      <th>442</th>\n",
       "      <td>1792</td>\n",
       "      <td>HAM_0007589</td>\n",
       "      <td>ISIC_0034049</td>\n",
       "      <td>mel</td>\n",
       "      <td>histo</td>\n",
       "      <td>70.0</td>\n",
       "      <td>male</td>\n",
       "      <td>back</td>\n",
       "      <td>data/HAM10000_images_part_2/ISIC_0034049.jpg</td>\n",
       "      <td>Melanoma</td>\n",
       "      <td>5</td>\n",
       "    </tr>\n",
       "    <tr>\n",
       "      <th>476</th>\n",
       "      <td>2055</td>\n",
       "      <td>HAM_0006696</td>\n",
       "      <td>ISIC_0026094</td>\n",
       "      <td>mel</td>\n",
       "      <td>histo</td>\n",
       "      <td>20.0</td>\n",
       "      <td>male</td>\n",
       "      <td>back</td>\n",
       "      <td>data/HAM10000_images_part_1/ISIC_0026094.jpg</td>\n",
       "      <td>Melanoma</td>\n",
       "      <td>5</td>\n",
       "    </tr>\n",
       "    <tr>\n",
       "      <th>497</th>\n",
       "      <td>1638</td>\n",
       "      <td>HAM_0000107</td>\n",
       "      <td>ISIC_0033299</td>\n",
       "      <td>mel</td>\n",
       "      <td>histo</td>\n",
       "      <td>85.0</td>\n",
       "      <td>male</td>\n",
       "      <td>trunk</td>\n",
       "      <td>data/HAM10000_images_part_2/ISIC_0033299.jpg</td>\n",
       "      <td>Melanoma</td>\n",
       "      <td>5</td>\n",
       "    </tr>\n",
       "    <tr>\n",
       "      <th>499</th>\n",
       "      <td>2295</td>\n",
       "      <td>HAM_0001095</td>\n",
       "      <td>ISIC_0026647</td>\n",
       "      <td>mel</td>\n",
       "      <td>histo</td>\n",
       "      <td>75.0</td>\n",
       "      <td>male</td>\n",
       "      <td>lower extremity</td>\n",
       "      <td>data/HAM10000_images_part_1/ISIC_0026647.jpg</td>\n",
       "      <td>Melanoma</td>\n",
       "      <td>5</td>\n",
       "    </tr>\n",
       "    <tr>\n",
       "      <th>557</th>\n",
       "      <td>1936</td>\n",
       "      <td>HAM_0001428</td>\n",
       "      <td>ISIC_0026268</td>\n",
       "      <td>mel</td>\n",
       "      <td>histo</td>\n",
       "      <td>80.0</td>\n",
       "      <td>male</td>\n",
       "      <td>face</td>\n",
       "      <td>data/HAM10000_images_part_1/ISIC_0026268.jpg</td>\n",
       "      <td>Melanoma</td>\n",
       "      <td>5</td>\n",
       "    </tr>\n",
       "    <tr>\n",
       "      <th>561</th>\n",
       "      <td>1931</td>\n",
       "      <td>HAM_0003617</td>\n",
       "      <td>ISIC_0029502</td>\n",
       "      <td>mel</td>\n",
       "      <td>histo</td>\n",
       "      <td>50.0</td>\n",
       "      <td>female</td>\n",
       "      <td>upper extremity</td>\n",
       "      <td>data/HAM10000_images_part_2/ISIC_0029502.jpg</td>\n",
       "      <td>Melanoma</td>\n",
       "      <td>5</td>\n",
       "    </tr>\n",
       "    <tr>\n",
       "      <th>578</th>\n",
       "      <td>2301</td>\n",
       "      <td>HAM_0007031</td>\n",
       "      <td>ISIC_0025616</td>\n",
       "      <td>mel</td>\n",
       "      <td>histo</td>\n",
       "      <td>70.0</td>\n",
       "      <td>female</td>\n",
       "      <td>upper extremity</td>\n",
       "      <td>data/HAM10000_images_part_1/ISIC_0025616.jpg</td>\n",
       "      <td>Melanoma</td>\n",
       "      <td>5</td>\n",
       "    </tr>\n",
       "    <tr>\n",
       "      <th>601</th>\n",
       "      <td>2213</td>\n",
       "      <td>HAM_0006744</td>\n",
       "      <td>ISIC_0031561</td>\n",
       "      <td>mel</td>\n",
       "      <td>histo</td>\n",
       "      <td>55.0</td>\n",
       "      <td>male</td>\n",
       "      <td>back</td>\n",
       "      <td>data/HAM10000_images_part_2/ISIC_0031561.jpg</td>\n",
       "      <td>Melanoma</td>\n",
       "      <td>5</td>\n",
       "    </tr>\n",
       "    <tr>\n",
       "      <th>628</th>\n",
       "      <td>1295</td>\n",
       "      <td>HAM_0003031</td>\n",
       "      <td>ISIC_0030445</td>\n",
       "      <td>mel</td>\n",
       "      <td>histo</td>\n",
       "      <td>75.0</td>\n",
       "      <td>male</td>\n",
       "      <td>back</td>\n",
       "      <td>data/HAM10000_images_part_2/ISIC_0030445.jpg</td>\n",
       "      <td>Melanoma</td>\n",
       "      <td>5</td>\n",
       "    </tr>\n",
       "    <tr>\n",
       "      <th>633</th>\n",
       "      <td>1917</td>\n",
       "      <td>HAM_0005737</td>\n",
       "      <td>ISIC_0033885</td>\n",
       "      <td>mel</td>\n",
       "      <td>histo</td>\n",
       "      <td>60.0</td>\n",
       "      <td>female</td>\n",
       "      <td>lower extremity</td>\n",
       "      <td>data/HAM10000_images_part_2/ISIC_0033885.jpg</td>\n",
       "      <td>Melanoma</td>\n",
       "      <td>5</td>\n",
       "    </tr>\n",
       "    <tr>\n",
       "      <th>658</th>\n",
       "      <td>1213</td>\n",
       "      <td>HAM_0000040</td>\n",
       "      <td>ISIC_0027190</td>\n",
       "      <td>mel</td>\n",
       "      <td>histo</td>\n",
       "      <td>80.0</td>\n",
       "      <td>male</td>\n",
       "      <td>upper extremity</td>\n",
       "      <td>data/HAM10000_images_part_1/ISIC_0027190.jpg</td>\n",
       "      <td>Melanoma</td>\n",
       "      <td>5</td>\n",
       "    </tr>\n",
       "    <tr>\n",
       "      <th>706</th>\n",
       "      <td>1744</td>\n",
       "      <td>HAM_0000055</td>\n",
       "      <td>ISIC_0033546</td>\n",
       "      <td>mel</td>\n",
       "      <td>histo</td>\n",
       "      <td>40.0</td>\n",
       "      <td>female</td>\n",
       "      <td>back</td>\n",
       "      <td>data/HAM10000_images_part_2/ISIC_0033546.jpg</td>\n",
       "      <td>Melanoma</td>\n",
       "      <td>5</td>\n",
       "    </tr>\n",
       "    <tr>\n",
       "      <th>707</th>\n",
       "      <td>1812</td>\n",
       "      <td>HAM_0001686</td>\n",
       "      <td>ISIC_0032698</td>\n",
       "      <td>mel</td>\n",
       "      <td>histo</td>\n",
       "      <td>65.0</td>\n",
       "      <td>male</td>\n",
       "      <td>face</td>\n",
       "      <td>data/HAM10000_images_part_2/ISIC_0032698.jpg</td>\n",
       "      <td>Melanoma</td>\n",
       "      <td>5</td>\n",
       "    </tr>\n",
       "    <tr>\n",
       "      <th>741</th>\n",
       "      <td>1350</td>\n",
       "      <td>HAM_0006975</td>\n",
       "      <td>ISIC_0024967</td>\n",
       "      <td>mel</td>\n",
       "      <td>histo</td>\n",
       "      <td>60.0</td>\n",
       "      <td>male</td>\n",
       "      <td>back</td>\n",
       "      <td>data/HAM10000_images_part_1/ISIC_0024967.jpg</td>\n",
       "      <td>Melanoma</td>\n",
       "      <td>5</td>\n",
       "    </tr>\n",
       "    <tr>\n",
       "      <th>751</th>\n",
       "      <td>2267</td>\n",
       "      <td>HAM_0002130</td>\n",
       "      <td>ISIC_0029570</td>\n",
       "      <td>mel</td>\n",
       "      <td>histo</td>\n",
       "      <td>50.0</td>\n",
       "      <td>female</td>\n",
       "      <td>lower extremity</td>\n",
       "      <td>data/HAM10000_images_part_2/ISIC_0029570.jpg</td>\n",
       "      <td>Melanoma</td>\n",
       "      <td>5</td>\n",
       "    </tr>\n",
       "    <tr>\n",
       "      <th>800</th>\n",
       "      <td>1425</td>\n",
       "      <td>HAM_0006208</td>\n",
       "      <td>ISIC_0028916</td>\n",
       "      <td>mel</td>\n",
       "      <td>histo</td>\n",
       "      <td>60.0</td>\n",
       "      <td>female</td>\n",
       "      <td>face</td>\n",
       "      <td>data/HAM10000_images_part_1/ISIC_0028916.jpg</td>\n",
       "      <td>Melanoma</td>\n",
       "      <td>5</td>\n",
       "    </tr>\n",
       "    <tr>\n",
       "      <th>834</th>\n",
       "      <td>1292</td>\n",
       "      <td>HAM_0003802</td>\n",
       "      <td>ISIC_0032308</td>\n",
       "      <td>mel</td>\n",
       "      <td>histo</td>\n",
       "      <td>75.0</td>\n",
       "      <td>male</td>\n",
       "      <td>face</td>\n",
       "      <td>data/HAM10000_images_part_2/ISIC_0032308.jpg</td>\n",
       "      <td>Melanoma</td>\n",
       "      <td>5</td>\n",
       "    </tr>\n",
       "    <tr>\n",
       "      <th>873</th>\n",
       "      <td>2009</td>\n",
       "      <td>HAM_0006870</td>\n",
       "      <td>ISIC_0027793</td>\n",
       "      <td>mel</td>\n",
       "      <td>histo</td>\n",
       "      <td>35.0</td>\n",
       "      <td>female</td>\n",
       "      <td>neck</td>\n",
       "      <td>data/HAM10000_images_part_1/ISIC_0027793.jpg</td>\n",
       "      <td>Melanoma</td>\n",
       "      <td>5</td>\n",
       "    </tr>\n",
       "    <tr>\n",
       "      <th>890</th>\n",
       "      <td>1997</td>\n",
       "      <td>HAM_0006207</td>\n",
       "      <td>ISIC_0030034</td>\n",
       "      <td>mel</td>\n",
       "      <td>histo</td>\n",
       "      <td>50.0</td>\n",
       "      <td>female</td>\n",
       "      <td>back</td>\n",
       "      <td>data/HAM10000_images_part_2/ISIC_0030034.jpg</td>\n",
       "      <td>Melanoma</td>\n",
       "      <td>5</td>\n",
       "    </tr>\n",
       "    <tr>\n",
       "      <th>962</th>\n",
       "      <td>2015</td>\n",
       "      <td>HAM_0002477</td>\n",
       "      <td>ISIC_0025145</td>\n",
       "      <td>mel</td>\n",
       "      <td>histo</td>\n",
       "      <td>80.0</td>\n",
       "      <td>female</td>\n",
       "      <td>lower extremity</td>\n",
       "      <td>data/HAM10000_images_part_1/ISIC_0025145.jpg</td>\n",
       "      <td>Melanoma</td>\n",
       "      <td>5</td>\n",
       "    </tr>\n",
       "    <tr>\n",
       "      <th>984</th>\n",
       "      <td>2253</td>\n",
       "      <td>HAM_0005909</td>\n",
       "      <td>ISIC_0026045</td>\n",
       "      <td>mel</td>\n",
       "      <td>histo</td>\n",
       "      <td>65.0</td>\n",
       "      <td>male</td>\n",
       "      <td>upper extremity</td>\n",
       "      <td>data/HAM10000_images_part_1/ISIC_0026045.jpg</td>\n",
       "      <td>Melanoma</td>\n",
       "      <td>5</td>\n",
       "    </tr>\n",
       "    <tr>\n",
       "      <th>1009</th>\n",
       "      <td>1558</td>\n",
       "      <td>HAM_0005352</td>\n",
       "      <td>ISIC_0027100</td>\n",
       "      <td>mel</td>\n",
       "      <td>histo</td>\n",
       "      <td>75.0</td>\n",
       "      <td>male</td>\n",
       "      <td>face</td>\n",
       "      <td>data/HAM10000_images_part_1/ISIC_0027100.jpg</td>\n",
       "      <td>Melanoma</td>\n",
       "      <td>5</td>\n",
       "    </tr>\n",
       "    <tr>\n",
       "      <th>1051</th>\n",
       "      <td>1335</td>\n",
       "      <td>HAM_0000903</td>\n",
       "      <td>ISIC_0024702</td>\n",
       "      <td>mel</td>\n",
       "      <td>histo</td>\n",
       "      <td>60.0</td>\n",
       "      <td>male</td>\n",
       "      <td>back</td>\n",
       "      <td>data/HAM10000_images_part_1/ISIC_0024702.jpg</td>\n",
       "      <td>Melanoma</td>\n",
       "      <td>5</td>\n",
       "    </tr>\n",
       "    <tr>\n",
       "      <th>1063</th>\n",
       "      <td>1376</td>\n",
       "      <td>HAM_0002557</td>\n",
       "      <td>ISIC_0025927</td>\n",
       "      <td>mel</td>\n",
       "      <td>histo</td>\n",
       "      <td>50.0</td>\n",
       "      <td>female</td>\n",
       "      <td>upper extremity</td>\n",
       "      <td>data/HAM10000_images_part_1/ISIC_0025927.jpg</td>\n",
       "      <td>Melanoma</td>\n",
       "      <td>5</td>\n",
       "    </tr>\n",
       "    <tr>\n",
       "      <th>1069</th>\n",
       "      <td>1233</td>\n",
       "      <td>HAM_0001150</td>\n",
       "      <td>ISIC_0030486</td>\n",
       "      <td>mel</td>\n",
       "      <td>histo</td>\n",
       "      <td>80.0</td>\n",
       "      <td>male</td>\n",
       "      <td>ear</td>\n",
       "      <td>data/HAM10000_images_part_2/ISIC_0030486.jpg</td>\n",
       "      <td>Melanoma</td>\n",
       "      <td>5</td>\n",
       "    </tr>\n",
       "    <tr>\n",
       "      <th>1099</th>\n",
       "      <td>1465</td>\n",
       "      <td>HAM_0005403</td>\n",
       "      <td>ISIC_0026086</td>\n",
       "      <td>mel</td>\n",
       "      <td>histo</td>\n",
       "      <td>55.0</td>\n",
       "      <td>male</td>\n",
       "      <td>upper extremity</td>\n",
       "      <td>data/HAM10000_images_part_1/ISIC_0026086.jpg</td>\n",
       "      <td>Melanoma</td>\n",
       "      <td>5</td>\n",
       "    </tr>\n",
       "  </tbody>\n",
       "</table>\n",
       "</div>"
      ],
      "text/plain": [
       "      index    lesion_id      image_id   dx dx_type   age     sex  \\\n",
       "15     2049  HAM_0006257  ISIC_0029843  mel   histo  70.0    male   \n",
       "47     1398  HAM_0000062  ISIC_0028878  mel   histo  55.0    male   \n",
       "68     2174  HAM_0002693  ISIC_0031550  mel   histo  80.0  female   \n",
       "78     1889  HAM_0006400  ISIC_0031741  mel   histo  45.0  female   \n",
       "113    1903  HAM_0005124  ISIC_0030150  mel   histo  80.0  female   \n",
       "139    2195  HAM_0003435  ISIC_0031350  mel   histo  60.0    male   \n",
       "140    1938  HAM_0004427  ISIC_0029092  mel   histo  65.0  female   \n",
       "147    2071  HAM_0002523  ISIC_0024516  mel   histo  40.0    male   \n",
       "154    2149  HAM_0003445  ISIC_0026229  mel   histo  65.0    male   \n",
       "185    1972  HAM_0001378  ISIC_0025313  mel   histo  35.0  female   \n",
       "233    2224  HAM_0005692  ISIC_0031931  mel   histo  70.0  female   \n",
       "258    2142  HAM_0006130  ISIC_0031670  mel   histo  80.0  female   \n",
       "285    1966  HAM_0000653  ISIC_0024552  mel   histo  60.0  female   \n",
       "298    1946  HAM_0005927  ISIC_0028173  mel   histo  45.0    male   \n",
       "369    2040  HAM_0004817  ISIC_0025238  mel   histo  55.0    male   \n",
       "399    2216  HAM_0003885  ISIC_0027560  mel   histo  25.0  female   \n",
       "418    1952  HAM_0005467  ISIC_0024640  mel   histo  55.0  female   \n",
       "426    1395  HAM_0003448  ISIC_0026158  mel   histo  75.0    male   \n",
       "434    2019  HAM_0002764  ISIC_0030366  mel   histo  60.0  female   \n",
       "435    2206  HAM_0005735  ISIC_0025543  mel   histo  85.0  female   \n",
       "442    1792  HAM_0007589  ISIC_0034049  mel   histo  70.0    male   \n",
       "476    2055  HAM_0006696  ISIC_0026094  mel   histo  20.0    male   \n",
       "497    1638  HAM_0000107  ISIC_0033299  mel   histo  85.0    male   \n",
       "499    2295  HAM_0001095  ISIC_0026647  mel   histo  75.0    male   \n",
       "557    1936  HAM_0001428  ISIC_0026268  mel   histo  80.0    male   \n",
       "561    1931  HAM_0003617  ISIC_0029502  mel   histo  50.0  female   \n",
       "578    2301  HAM_0007031  ISIC_0025616  mel   histo  70.0  female   \n",
       "601    2213  HAM_0006744  ISIC_0031561  mel   histo  55.0    male   \n",
       "628    1295  HAM_0003031  ISIC_0030445  mel   histo  75.0    male   \n",
       "633    1917  HAM_0005737  ISIC_0033885  mel   histo  60.0  female   \n",
       "658    1213  HAM_0000040  ISIC_0027190  mel   histo  80.0    male   \n",
       "706    1744  HAM_0000055  ISIC_0033546  mel   histo  40.0  female   \n",
       "707    1812  HAM_0001686  ISIC_0032698  mel   histo  65.0    male   \n",
       "741    1350  HAM_0006975  ISIC_0024967  mel   histo  60.0    male   \n",
       "751    2267  HAM_0002130  ISIC_0029570  mel   histo  50.0  female   \n",
       "800    1425  HAM_0006208  ISIC_0028916  mel   histo  60.0  female   \n",
       "834    1292  HAM_0003802  ISIC_0032308  mel   histo  75.0    male   \n",
       "873    2009  HAM_0006870  ISIC_0027793  mel   histo  35.0  female   \n",
       "890    1997  HAM_0006207  ISIC_0030034  mel   histo  50.0  female   \n",
       "962    2015  HAM_0002477  ISIC_0025145  mel   histo  80.0  female   \n",
       "984    2253  HAM_0005909  ISIC_0026045  mel   histo  65.0    male   \n",
       "1009   1558  HAM_0005352  ISIC_0027100  mel   histo  75.0    male   \n",
       "1051   1335  HAM_0000903  ISIC_0024702  mel   histo  60.0    male   \n",
       "1063   1376  HAM_0002557  ISIC_0025927  mel   histo  50.0  female   \n",
       "1069   1233  HAM_0001150  ISIC_0030486  mel   histo  80.0    male   \n",
       "1099   1465  HAM_0005403  ISIC_0026086  mel   histo  55.0    male   \n",
       "\n",
       "         localization                                          path cell_type  \\\n",
       "15               neck  data/HAM10000_images_part_2/ISIC_0029843.jpg  Melanoma   \n",
       "47               back  data/HAM10000_images_part_1/ISIC_0028878.jpg  Melanoma   \n",
       "68              chest  data/HAM10000_images_part_2/ISIC_0031550.jpg  Melanoma   \n",
       "78               back  data/HAM10000_images_part_2/ISIC_0031741.jpg  Melanoma   \n",
       "113              neck  data/HAM10000_images_part_2/ISIC_0030150.jpg  Melanoma   \n",
       "139              back  data/HAM10000_images_part_2/ISIC_0031350.jpg  Melanoma   \n",
       "140   upper extremity  data/HAM10000_images_part_1/ISIC_0029092.jpg  Melanoma   \n",
       "147              back  data/HAM10000_images_part_1/ISIC_0024516.jpg  Melanoma   \n",
       "154           abdomen  data/HAM10000_images_part_1/ISIC_0026229.jpg  Melanoma   \n",
       "185   lower extremity  data/HAM10000_images_part_1/ISIC_0025313.jpg  Melanoma   \n",
       "233              face  data/HAM10000_images_part_2/ISIC_0031931.jpg  Melanoma   \n",
       "258   upper extremity  data/HAM10000_images_part_2/ISIC_0031670.jpg  Melanoma   \n",
       "285   lower extremity  data/HAM10000_images_part_1/ISIC_0024552.jpg  Melanoma   \n",
       "298              back  data/HAM10000_images_part_1/ISIC_0028173.jpg  Melanoma   \n",
       "369   lower extremity  data/HAM10000_images_part_1/ISIC_0025238.jpg  Melanoma   \n",
       "399              face  data/HAM10000_images_part_1/ISIC_0027560.jpg  Melanoma   \n",
       "418              back  data/HAM10000_images_part_1/ISIC_0024640.jpg  Melanoma   \n",
       "426   upper extremity  data/HAM10000_images_part_1/ISIC_0026158.jpg  Melanoma   \n",
       "434              back  data/HAM10000_images_part_2/ISIC_0030366.jpg  Melanoma   \n",
       "435              face  data/HAM10000_images_part_1/ISIC_0025543.jpg  Melanoma   \n",
       "442              back  data/HAM10000_images_part_2/ISIC_0034049.jpg  Melanoma   \n",
       "476              back  data/HAM10000_images_part_1/ISIC_0026094.jpg  Melanoma   \n",
       "497             trunk  data/HAM10000_images_part_2/ISIC_0033299.jpg  Melanoma   \n",
       "499   lower extremity  data/HAM10000_images_part_1/ISIC_0026647.jpg  Melanoma   \n",
       "557              face  data/HAM10000_images_part_1/ISIC_0026268.jpg  Melanoma   \n",
       "561   upper extremity  data/HAM10000_images_part_2/ISIC_0029502.jpg  Melanoma   \n",
       "578   upper extremity  data/HAM10000_images_part_1/ISIC_0025616.jpg  Melanoma   \n",
       "601              back  data/HAM10000_images_part_2/ISIC_0031561.jpg  Melanoma   \n",
       "628              back  data/HAM10000_images_part_2/ISIC_0030445.jpg  Melanoma   \n",
       "633   lower extremity  data/HAM10000_images_part_2/ISIC_0033885.jpg  Melanoma   \n",
       "658   upper extremity  data/HAM10000_images_part_1/ISIC_0027190.jpg  Melanoma   \n",
       "706              back  data/HAM10000_images_part_2/ISIC_0033546.jpg  Melanoma   \n",
       "707              face  data/HAM10000_images_part_2/ISIC_0032698.jpg  Melanoma   \n",
       "741              back  data/HAM10000_images_part_1/ISIC_0024967.jpg  Melanoma   \n",
       "751   lower extremity  data/HAM10000_images_part_2/ISIC_0029570.jpg  Melanoma   \n",
       "800              face  data/HAM10000_images_part_1/ISIC_0028916.jpg  Melanoma   \n",
       "834              face  data/HAM10000_images_part_2/ISIC_0032308.jpg  Melanoma   \n",
       "873              neck  data/HAM10000_images_part_1/ISIC_0027793.jpg  Melanoma   \n",
       "890              back  data/HAM10000_images_part_2/ISIC_0030034.jpg  Melanoma   \n",
       "962   lower extremity  data/HAM10000_images_part_1/ISIC_0025145.jpg  Melanoma   \n",
       "984   upper extremity  data/HAM10000_images_part_1/ISIC_0026045.jpg  Melanoma   \n",
       "1009             face  data/HAM10000_images_part_1/ISIC_0027100.jpg  Melanoma   \n",
       "1051             back  data/HAM10000_images_part_1/ISIC_0024702.jpg  Melanoma   \n",
       "1063  upper extremity  data/HAM10000_images_part_1/ISIC_0025927.jpg  Melanoma   \n",
       "1069              ear  data/HAM10000_images_part_2/ISIC_0030486.jpg  Melanoma   \n",
       "1099  upper extremity  data/HAM10000_images_part_1/ISIC_0026086.jpg  Melanoma   \n",
       "\n",
       "      cell_type_idx  \n",
       "15                5  \n",
       "47                5  \n",
       "68                5  \n",
       "78                5  \n",
       "113               5  \n",
       "139               5  \n",
       "140               5  \n",
       "147               5  \n",
       "154               5  \n",
       "185               5  \n",
       "233               5  \n",
       "258               5  \n",
       "285               5  \n",
       "298               5  \n",
       "369               5  \n",
       "399               5  \n",
       "418               5  \n",
       "426               5  \n",
       "434               5  \n",
       "435               5  \n",
       "442               5  \n",
       "476               5  \n",
       "497               5  \n",
       "499               5  \n",
       "557               5  \n",
       "561               5  \n",
       "578               5  \n",
       "601               5  \n",
       "628               5  \n",
       "633               5  \n",
       "658               5  \n",
       "706               5  \n",
       "707               5  \n",
       "741               5  \n",
       "751               5  \n",
       "800               5  \n",
       "834               5  \n",
       "873               5  \n",
       "890               5  \n",
       "962               5  \n",
       "984               5  \n",
       "1009              5  \n",
       "1051              5  \n",
       "1063              5  \n",
       "1069              5  \n",
       "1099              5  "
      ]
     },
     "execution_count": 52,
     "metadata": {},
     "output_type": "execute_result"
    }
   ],
   "source": [
    "df_val[df_val['cell_type_idx'] == 5]"
   ]
  },
  {
   "cell_type": "code",
   "execution_count": 30,
   "metadata": {},
   "outputs": [],
   "source": [
    "train_transform = transforms.Compose([transforms.Resize((input_size,input_size)),transforms.RandomHorizontalFlip(),\n",
    "                                      transforms.RandomVerticalFlip(),transforms.RandomRotation(20),\n",
    "                                      transforms.ColorJitter(brightness=0.1, contrast=0.1, hue=0.1),\n",
    "                                        transforms.ToTensor(), transforms.Normalize(norm_mean, norm_std)])\n",
    "\n",
    "# define the transformation of the val images.\n",
    "val_transform = transforms.Compose([transforms.Resize((input_size,input_size)), transforms.ToTensor(),\n",
    "                                    transforms.Normalize(norm_mean, norm_std)])\n",
    "                                \n",
    "                                "
   ]
  },
  {
   "cell_type": "code",
   "execution_count": 31,
   "metadata": {},
   "outputs": [],
   "source": [
    "class HAM10000(Dataset):\n",
    "    def __init__(self, df, transform=None):\n",
    "        self.df = df\n",
    "        self.transform = transform\n",
    "\n",
    "    def __len__(self):\n",
    "        return len(self.df)\n",
    "\n",
    "    def __getitem__(self, idx):\n",
    "        x = Image.open(self.df['path'][idx])\n",
    "        y = torch.tensor(int(self.df['cell_type_idx'][idx]))\n",
    "\n",
    "        if self.transform:\n",
    "            x = self.transform(x)\n",
    "\n",
    "        return x, y"
   ]
  },
  {
   "cell_type": "code",
   "execution_count": 32,
   "metadata": {},
   "outputs": [],
   "source": [
    "training_set = HAM10000(df_train, transform=train_transform)\n",
    "val_set = HAM10000(df_val, transform=val_transform)\n",
    "\n",
    "train_loader = DataLoader(training_set, batch_size=32, shuffle=True)\n",
    "val_loader = DataLoader(val_set, batch_size=32, shuffle=False)"
   ]
  },
  {
   "cell_type": "code",
   "execution_count": 33,
   "metadata": {},
   "outputs": [
    {
     "name": "stderr",
     "output_type": "stream",
     "text": [
      "Training: 100%|██████████| 2150/2150 [09:07<00:00,  3.93it/s]\n"
     ]
    },
    {
     "name": "stdout",
     "output_type": "stream",
     "text": [
      "Epoch [1/20], Loss: 1.0193, Accuracy: 0.6644\n"
     ]
    },
    {
     "name": "stderr",
     "output_type": "stream",
     "text": [
      "Training: 100%|██████████| 2150/2150 [09:01<00:00,  3.97it/s]\n"
     ]
    },
    {
     "name": "stdout",
     "output_type": "stream",
     "text": [
      "Epoch [2/20], Loss: 0.8273, Accuracy: 0.7225\n"
     ]
    },
    {
     "name": "stderr",
     "output_type": "stream",
     "text": [
      "Training: 100%|██████████| 2150/2150 [09:01<00:00,  3.97it/s]\n"
     ]
    },
    {
     "name": "stdout",
     "output_type": "stream",
     "text": [
      "Epoch [3/20], Loss: 0.6675, Accuracy: 0.7775\n"
     ]
    },
    {
     "name": "stderr",
     "output_type": "stream",
     "text": [
      "Training: 100%|██████████| 2150/2150 [09:00<00:00,  3.98it/s]\n"
     ]
    },
    {
     "name": "stdout",
     "output_type": "stream",
     "text": [
      "Epoch [4/20], Loss: 0.5541, Accuracy: 0.8175\n"
     ]
    },
    {
     "name": "stderr",
     "output_type": "stream",
     "text": [
      "Training: 100%|██████████| 2150/2150 [09:00<00:00,  3.98it/s]\n"
     ]
    },
    {
     "name": "stdout",
     "output_type": "stream",
     "text": [
      "Epoch [5/20], Loss: 0.4737, Accuracy: 0.8418\n"
     ]
    },
    {
     "name": "stderr",
     "output_type": "stream",
     "text": [
      "Training: 100%|██████████| 2150/2150 [09:00<00:00,  3.98it/s]\n"
     ]
    },
    {
     "name": "stdout",
     "output_type": "stream",
     "text": [
      "Epoch [6/20], Loss: 0.4077, Accuracy: 0.8640\n"
     ]
    },
    {
     "name": "stderr",
     "output_type": "stream",
     "text": [
      "Training: 100%|██████████| 2150/2150 [09:01<00:00,  3.97it/s]\n"
     ]
    },
    {
     "name": "stdout",
     "output_type": "stream",
     "text": [
      "Epoch [7/20], Loss: 0.3485, Accuracy: 0.8829\n"
     ]
    },
    {
     "name": "stderr",
     "output_type": "stream",
     "text": [
      "Training: 100%|██████████| 2150/2150 [09:00<00:00,  3.98it/s]\n"
     ]
    },
    {
     "name": "stdout",
     "output_type": "stream",
     "text": [
      "Epoch [8/20], Loss: 0.3016, Accuracy: 0.8987\n"
     ]
    },
    {
     "name": "stderr",
     "output_type": "stream",
     "text": [
      "Training: 100%|██████████| 2150/2150 [09:00<00:00,  3.98it/s]\n"
     ]
    },
    {
     "name": "stdout",
     "output_type": "stream",
     "text": [
      "Epoch [9/20], Loss: 0.2681, Accuracy: 0.9111\n"
     ]
    },
    {
     "name": "stderr",
     "output_type": "stream",
     "text": [
      "Training: 100%|██████████| 2150/2150 [09:01<00:00,  3.97it/s]\n"
     ]
    },
    {
     "name": "stdout",
     "output_type": "stream",
     "text": [
      "Epoch [10/20], Loss: 0.2397, Accuracy: 0.9211\n"
     ]
    },
    {
     "name": "stderr",
     "output_type": "stream",
     "text": [
      "Training: 100%|██████████| 2150/2150 [09:00<00:00,  3.98it/s]\n"
     ]
    },
    {
     "name": "stdout",
     "output_type": "stream",
     "text": [
      "Epoch [11/20], Loss: 0.2154, Accuracy: 0.9286\n"
     ]
    },
    {
     "name": "stderr",
     "output_type": "stream",
     "text": [
      "Training: 100%|██████████| 2150/2150 [08:59<00:00,  3.98it/s]\n"
     ]
    },
    {
     "name": "stdout",
     "output_type": "stream",
     "text": [
      "Epoch [12/20], Loss: 0.1996, Accuracy: 0.9334\n"
     ]
    },
    {
     "name": "stderr",
     "output_type": "stream",
     "text": [
      "Training: 100%|██████████| 2150/2150 [09:01<00:00,  3.97it/s]\n"
     ]
    },
    {
     "name": "stdout",
     "output_type": "stream",
     "text": [
      "Epoch [13/20], Loss: 0.1831, Accuracy: 0.9385\n"
     ]
    },
    {
     "name": "stderr",
     "output_type": "stream",
     "text": [
      "Training: 100%|██████████| 2150/2150 [09:01<00:00,  3.97it/s]\n"
     ]
    },
    {
     "name": "stdout",
     "output_type": "stream",
     "text": [
      "Epoch [14/20], Loss: 0.1711, Accuracy: 0.9429\n"
     ]
    },
    {
     "name": "stderr",
     "output_type": "stream",
     "text": [
      "Training: 100%|██████████| 2150/2150 [08:53<00:00,  4.03it/s]\n"
     ]
    },
    {
     "name": "stdout",
     "output_type": "stream",
     "text": [
      "Epoch [15/20], Loss: 0.1590, Accuracy: 0.9476\n"
     ]
    },
    {
     "name": "stderr",
     "output_type": "stream",
     "text": [
      "Training: 100%|██████████| 2150/2150 [10:59<00:00,  3.26it/s]  \n"
     ]
    },
    {
     "name": "stdout",
     "output_type": "stream",
     "text": [
      "Epoch [16/20], Loss: 0.1518, Accuracy: 0.9495\n"
     ]
    },
    {
     "name": "stderr",
     "output_type": "stream",
     "text": [
      "Training: 100%|██████████| 2150/2150 [09:20<00:00,  3.84it/s]\n"
     ]
    },
    {
     "name": "stdout",
     "output_type": "stream",
     "text": [
      "Epoch [17/20], Loss: 0.1412, Accuracy: 0.9529\n"
     ]
    },
    {
     "name": "stderr",
     "output_type": "stream",
     "text": [
      "Training: 100%|██████████| 2150/2150 [08:59<00:00,  3.98it/s]\n"
     ]
    },
    {
     "name": "stdout",
     "output_type": "stream",
     "text": [
      "Epoch [18/20], Loss: 0.1335, Accuracy: 0.9552\n"
     ]
    },
    {
     "name": "stderr",
     "output_type": "stream",
     "text": [
      "Training: 100%|██████████| 2150/2150 [09:01<00:00,  3.97it/s]\n"
     ]
    },
    {
     "name": "stdout",
     "output_type": "stream",
     "text": [
      "Epoch [19/20], Loss: 0.1252, Accuracy: 0.9584\n"
     ]
    },
    {
     "name": "stderr",
     "output_type": "stream",
     "text": [
      "Training: 100%|██████████| 2150/2150 [09:03<00:00,  3.95it/s]"
     ]
    },
    {
     "name": "stdout",
     "output_type": "stream",
     "text": [
      "Epoch [20/20], Loss: 0.1185, Accuracy: 0.9608\n"
     ]
    },
    {
     "name": "stderr",
     "output_type": "stream",
     "text": [
      "\n"
     ]
    }
   ],
   "source": [
    "# Set the number of epochs and the learning rate\n",
    "num_epochs = 20\n",
    "learning_rate = 0.01\n",
    "\n",
    "# Define the loss function and optimizer\n",
    "criterion = torch.nn.CrossEntropyLoss()\n",
    "optimizer = torch.optim.Adam(model.parameters(), lr=learning_rate)\n",
    "\n",
    "# Training loop\n",
    "for epoch in range(num_epochs):\n",
    "    # Set the model to training mode\n",
    "    model.train()\n",
    "    \n",
    "    # Initialize the running loss and correct predictions\n",
    "    running_loss = 0.0\n",
    "    correct_predictions = 0\n",
    "    \n",
    "    # Iterate over the training dataset\n",
    "    for images, labels in tqdm(train_loader, desc='Training'):\n",
    "        # Move the data to the device (GPU if available)\n",
    "        images = images.to(device)\n",
    "        labels = labels.to(device)\n",
    "        \n",
    "        # Zero the gradients\n",
    "        optimizer.zero_grad()\n",
    "        \n",
    "        # Forward pass\n",
    "        outputs = model(images)\n",
    "        \n",
    "        # Compute the loss\n",
    "        loss = criterion(outputs, labels)\n",
    "        \n",
    "        # Backward pass and optimization\n",
    "        loss.backward()\n",
    "        optimizer.step()\n",
    "        \n",
    "        # Update the running loss and correct predictions\n",
    "        running_loss += loss.item() * images.size(0)\n",
    "        _, predicted = torch.max(outputs.data, 1)\n",
    "        correct_predictions += (predicted == labels).sum().item()\n",
    "    \n",
    "    # Compute the average loss and accuracy for the epoch\n",
    "    epoch_loss = running_loss / len(train_loader.dataset)\n",
    "    epoch_accuracy = correct_predictions / len(train_loader.dataset)\n",
    "    \n",
    "    # Print the epoch number, loss, and accuracy\n",
    "    print(f'Epoch [{epoch+1}/{num_epochs}], Loss: {epoch_loss:.4f}, Accuracy: {epoch_accuracy:.4f}')\n"
   ]
  },
  {
   "cell_type": "code",
   "execution_count": 34,
   "metadata": {},
   "outputs": [
    {
     "name": "stderr",
     "output_type": "stream",
     "text": [
      "/Users/antoniorevilla/Desktop/SLC Project/env/lib/python3.12/site-packages/torchvision/models/_utils.py:208: UserWarning: The parameter 'pretrained' is deprecated since 0.13 and may be removed in the future, please use 'weights' instead.\n",
      "  warnings.warn(\n",
      "/Users/antoniorevilla/Desktop/SLC Project/env/lib/python3.12/site-packages/torchvision/models/_utils.py:223: UserWarning: Arguments other than a weight enum or `None` for 'weights' are deprecated since 0.13 and may be removed in the future. The current behavior is equivalent to passing `weights=ResNet18_Weights.IMAGENET1K_V1`. You can also use `weights=ResNet18_Weights.DEFAULT` to get the most up-to-date weights.\n",
      "  warnings.warn(msg)\n"
     ]
    },
    {
     "data": {
      "text/plain": [
       "<All keys matched successfully>"
      ]
     },
     "execution_count": 34,
     "metadata": {},
     "output_type": "execute_result"
    }
   ],
   "source": [
    "# Save trained model\n",
    "torch.save(model.state_dict(), 'trained_models/resnet50.pth')\n",
    "# load model\n",
    "model = NN_Model('resnet50', num_classes)\n",
    "model.load_state_dict(torch.load('trained_models/resnet50.pth'))\n"
   ]
  },
  {
   "cell_type": "code",
   "execution_count": 42,
   "metadata": {},
   "outputs": [
    {
     "name": "stderr",
     "output_type": "stream",
     "text": [
      "/Users/antoniorevilla/Desktop/SLC Project/env/lib/python3.12/site-packages/torchvision/models/_utils.py:208: UserWarning: The parameter 'pretrained' is deprecated since 0.13 and may be removed in the future, please use 'weights' instead.\n",
      "  warnings.warn(\n",
      "/Users/antoniorevilla/Desktop/SLC Project/env/lib/python3.12/site-packages/torchvision/models/_utils.py:223: UserWarning: Arguments other than a weight enum or `None` for 'weights' are deprecated since 0.13 and may be removed in the future. The current behavior is equivalent to passing `weights=ResNet18_Weights.IMAGENET1K_V1`. You can also use `weights=ResNet18_Weights.DEFAULT` to get the most up-to-date weights.\n",
      "  warnings.warn(msg)\n"
     ]
    },
    {
     "data": {
      "text/plain": [
       "<All keys matched successfully>"
      ]
     },
     "execution_count": 42,
     "metadata": {},
     "output_type": "execute_result"
    }
   ],
   "source": [
    "model = NN_Model('resnet50', num_classes)\n",
    "model.load_state_dict(torch.load('trained_models/resnet50.pth'))"
   ]
  },
  {
   "cell_type": "markdown",
   "metadata": {},
   "source": [
    "# Performance check\n",
    "We are checking the models performance on the validation set"
   ]
  },
  {
   "cell_type": "code",
   "execution_count": 43,
   "metadata": {},
   "outputs": [
    {
     "name": "stderr",
     "output_type": "stream",
     "text": [
      "Inference: 100%|██████████| 35/35 [00:34<00:00,  1.02it/s]\n"
     ]
    }
   ],
   "source": [
    "infer_device = 'cpu'\n",
    "model.to(infer_device)\n",
    "model.eval()\n",
    "\n",
    "predictions = []\n",
    "model.eval()\n",
    "\n",
    "with torch.no_grad():\n",
    "    for images, labels in tqdm(val_loader, desc='Inference'):\n",
    "        images = images.to(infer_device)\n",
    "        labels = labels.to(infer_device)\n",
    "        \n",
    "        outputs = model(images)\n",
    "        _, predicted = torch.max(outputs, 1)\n",
    "        \n",
    "        predictions.extend(predicted.tolist())\n",
    "\n",
    "predictions = torch.tensor(predictions)\n",
    "\n"
   ]
  },
  {
   "cell_type": "code",
   "execution_count": 44,
   "metadata": {},
   "outputs": [
    {
     "name": "stdout",
     "output_type": "stream",
     "text": [
      "Accuracy: 0.8713\n",
      "Precision: 0.8890\n",
      "Recall: 0.8713\n",
      "F1 Score: 0.8774\n"
     ]
    }
   ],
   "source": [
    "# Compute the accuracy, precision, recall, and F1 score\n",
    "accuracy = accuracy_score(df_val['cell_type_idx'], predictions)\n",
    "precision = precision_score(df_val['cell_type_idx'], predictions, average='weighted')\n",
    "recall = recall_score(df_val['cell_type_idx'], predictions, average='weighted')\n",
    "f1 = f1_score(df_val['cell_type_idx'], predictions, average='weighted')\n",
    "\n",
    "print(f'Accuracy: {accuracy:.4f}')\n",
    "print(f'Precision: {precision:.4f}')\n",
    "print(f'Recall: {recall:.4f}')\n",
    "print(f'F1 Score: {f1:.4f}')"
   ]
  },
  {
   "cell_type": "code",
   "execution_count": 37,
   "metadata": {},
   "outputs": [
    {
     "data": {
      "image/png": "[encoded data removed]",
      "text/plain": [
       "<Figure size 640x480 with 2 Axes>"
      ]
     },
     "metadata": {},
     "output_type": "display_data"
    }
   ],
   "source": [
    "# Plotting the confusion matrix\n",
    "plt.imshow(confusion_matrix(df_val['cell_type_idx'], predictions), cmap='Blues')\n",
    "plt.title('Confusion Matrix')\n",
    "plt.xlabel('Predicted Labels')\n",
    "plt.ylabel('True Labels')\n",
    "plt.colorbar()\n",
    "plt.show()"
   ]
  },
  {
   "cell_type": "code",
   "execution_count": 38,
   "metadata": {},
   "outputs": [
    {
     "data": {
      "text/plain": [
       "array([[ 18,   2,   4,   1,   1,   4,   0],\n",
       "       [  3,  25,   4,   1,   1,   1,   0],\n",
       "       [  2,   7,  48,   0,  23,   8,   0],\n",
       "       [  0,   0,   1,   6,   1,   0,   0],\n",
       "       [  1,   2,  15,   2, 822,  40,   1],\n",
       "       [  1,   1,   4,   0,   8,  32,   0],\n",
       "       [  0,   0,   0,   0,   2,   1,  10]])"
      ]
     },
     "execution_count": 38,
     "metadata": {},
     "output_type": "execute_result"
    }
   ],
   "source": [
    "confusion_matrix(df_val['cell_type_idx'], predictions)"
   ]
  },
  {
   "cell_type": "code",
   "execution_count": 39,
   "metadata": {},
   "outputs": [
    {
     "data": {
      "text/plain": [
       "(tensor([0, 1, 2, 3, 4, 5, 6]), tensor([ 25,  37,  76,  10, 858,  86,  11]))"
      ]
     },
     "execution_count": 39,
     "metadata": {},
     "output_type": "execute_result"
    }
   ],
   "source": [
    "# value counts for prediction tensor\n",
    "predictions.unique(return_counts=True)\n"
   ]
  },
  {
   "cell_type": "code",
   "execution_count": null,
   "metadata": {},
   "outputs": [],
   "source": []
  },
  {
   "cell_type": "markdown",
   "metadata": {},
   "source": [
    "# Transformer Model Version"
   ]
  },
  {
   "cell_type": "code",
   "execution_count": null,
   "metadata": {},
   "outputs": [],
   "source": []
  }
 ],
 "metadata": {
  "kernelspec": {
   "display_name": "env",
   "language": "python",
   "name": "python3"
  },
  "language_info": {
   "codemirror_mode": {
    "name": "ipython",
    "version": 3
   },
   "file_extension": ".py",
   "mimetype": "text/x-python",
   "name": "python",
   "nbconvert_exporter": "python",
   "pygments_lexer": "ipython3",
   "version": "3.12.3"
  }
 },
 "nbformat": 4,
 "nbformat_minor": 2
}
